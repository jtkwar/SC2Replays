{
 "cells": [
  {
   "cell_type": "markdown",
   "metadata": {},
   "source": [
    "### Dashboard for Exploration and Statistical Learning\n",
    "#### Starcraft 2 Professional Games\n",
    "###### Jeffrey Kwarsick, Ph.D.\n",
    "###### September 2020"
   ]
  },
  {
   "cell_type": "markdown",
   "metadata": {},
   "source": [
    "#### Introduction\n",
    "This is the space where I will flush out an introduction.  Something about the richness and complexity of Starcraft played at the highest level."
   ]
  },
  {
   "cell_type": "markdown",
   "metadata": {},
   "source": [
    "### References\n",
    "1. https://miguelgondu.github.io/python/ai/video%20games/2018/09/04/a-tutorial-on-sc2reader-events-and-units.html\n",
    "2. https://lauler.github.io/blog/replay/\n",
    "3. https://sc2reader.readthedocs.io/en/latest/\n",
    "4. https://lotv.spawningtool.com/replaypacks/\n",
    "5. https://github.com/GraylinKim/sc2reader"
   ]
  },
  {
   "cell_type": "markdown",
   "metadata": {},
   "source": [
    "The most useful resource from the above list of references is the github repository containing all code for `sc2reader`.  The documentation is not complete, so if there is information you are intereseted in extracting, the best place to find it is in the source code."
   ]
  },
  {
   "cell_type": "code",
   "execution_count": 78,
   "metadata": {},
   "outputs": [],
   "source": [
    "# import relevant libraries\n",
    "import os\n",
    "import numpy as np\n",
    "import scipy as sci\n",
    "import matplotlib\n",
    "import matplotlib.pyplot as plt\n",
    "import matplotlib.gridspec as gridspec\n",
    "import matplotlib.animation as animation\n",
    "import pandas as pd\n",
    "from scipy.optimize import curve_fit\n",
    "import sklearn\n",
    "import re\n",
    "import seaborn as sns\n",
    "import math\n",
    "from datetime import datetime\n",
    "import glob\n",
    "from IPython.display import clear_output\n",
    "import ipywidgets as widgets\n",
    "from ipywidgets import interact, interact_manual, Layout, interactive\n",
    "####################################\n",
    "import sc2reader"
   ]
  },
  {
   "cell_type": "markdown",
   "metadata": {},
   "source": [
    "Just checking in on what my current working directory is."
   ]
  },
  {
   "cell_type": "code",
   "execution_count": 5,
   "metadata": {},
   "outputs": [
    {
     "name": "stdout",
     "output_type": "stream",
     "text": [
      "C:\\Users\\stark\\Documents\\Coding\\SC2\n"
     ]
    }
   ],
   "source": [
    "cwd = os.getcwd()\n",
    "print(cwd)"
   ]
  },
  {
   "cell_type": "markdown",
   "metadata": {},
   "source": [
    "This next function utilizes `os.walk()` to create a list of all Starcraft 2 Replays that I have in my SC2_Replays folder."
   ]
  },
  {
   "cell_type": "code",
   "execution_count": 19,
   "metadata": {},
   "outputs": [],
   "source": [
    "replays = []\n",
    "for root, dirs, files in os.walk(cwd+'\\\\SC2_Replays'):\n",
    "    for file in files:\n",
    "        if file.endswith('.SC2Replay'):\n",
    "            replays.append(root + '\\\\' + file)"
   ]
  },
  {
   "cell_type": "code",
   "execution_count": 48,
   "metadata": {},
   "outputs": [],
   "source": [
    "def split_events(replay):\n",
    "    \"\"\"\n",
    "    Read in loaded replay from .sc2reader    \n",
    "    Create KEYS of specific events via set() function \n",
    "    Iterate through all events append list in events_of_type[KEY]\n",
    "    \n",
    "    :RETURN Dictionary: KEY   = Event Type\n",
    "                        VALUE = List(Events of Specified Type)\n",
    "    \"\"\"\n",
    "    event_names = set([event.name for event in replay.events])\n",
    "    events_of_type = {name: [] for name in event_names}\n",
    "    for event in replay.events:\n",
    "        events_of_type[event.name].append(event)\n",
    "    return(events_of_type)"
   ]
  },
  {
   "cell_type": "code",
   "execution_count": 39,
   "metadata": {},
   "outputs": [],
   "source": [
    "def extract_PlayerInfo(players, player_id):\n",
    "    \"\"\"\n",
    "    Reads in sc2reader .player object.  This is a dictionary.\n",
    "    Key = Player_ID (int)\n",
    "    Value = 'PLayer # - PlayerGamerTag (Race)'\n",
    "    \n",
    "    :RETURN [PlayerName, PlayerRace]\n",
    "    \"\"\"\n",
    "    re_plyr_name = r\"(?<=Player\\s\\d\\s-\\s)(\\S*)\"\n",
    "    re_plyr_race = r\"(Terran|Zerg|Protoss)\"\n",
    "    plyr_name = re.findall(re_plyr_name, str(players[player_id]))\n",
    "    plyr_race = re.findall(re_plyr_race, str(players[player_id]))\n",
    "    return([plyr_name[0],plyr_race[0]])"
   ]
  },
  {
   "cell_type": "code",
   "execution_count": 45,
   "metadata": {},
   "outputs": [],
   "source": [
    "def determineWinner(replay):\n",
    "    \"\"\"\n",
    "    Generally, the loser is the first person leave a game.  You could look for a ChatEvent, looking for a 'gg',\n",
    "        but not all players do this (for one reason or another), so first player leave event confidently identifies the loser\n",
    "    Function to read through all events in SC2 Replay,\n",
    "    Search for 'PlayerLeaveEvent' and Save Event to list IF Player is Competing, Append to list.\n",
    "    IF First Player in List is Player 1, WINNER = Player 2; Vis-Versa\n",
    "    \n",
    "    :RETURN(Winner -> list[Player Name, Player Race])\n",
    "    \"\"\"\n",
    "    PlayerLeaveEventList = []\n",
    "    leaveTimeFrames = []\n",
    "    for i in range(len(replay.events)):\n",
    "        if replay.events[i].name == 'PlayerLeaveEvent':\n",
    "            if replay.events[i].player == replay.player[1] or replay.events[i].player == replay.player[2]:\n",
    "                PlayerLeaveEventList.append(replay.events[i].player)\n",
    "                leaveTimeFrames.append(replay.events[i].frame)\n",
    "    re_plyr_name = r\"(?<=Player\\s\\d\\s-\\s)(\\S*)\"\n",
    "    re_plyr_race = r\"(Terran|Zerg|Protoss)\"\n",
    "    if PlayerLeaveEventList[0] == replay.player[1]:\n",
    "        plyr_name = re.findall(re_plyr_name, str(replay.player[2]))\n",
    "        plyr_race = re.findall(re_plyr_race, str(replay.player[2]))\n",
    "    else:\n",
    "        plyr_name = re.findall(re_plyr_name, str(replay.player[1]))\n",
    "        plyr_race = re.findall(re_plyr_race, str(replay.player[1]))\n",
    "    game_length = int(leaveTimeFrames[0]) // 24\n",
    "    return([game_length, [plyr_name[0],plyr_race[0]]])"
   ]
  },
  {
   "cell_type": "code",
   "execution_count": 47,
   "metadata": {},
   "outputs": [],
   "source": [
    "def extract_StatEvents(PlayerStatsEventList, player_id):\n",
    "    \"\"\"\n",
    "    extract all stats and RETURN DataFrame\n",
    "    stats are collected in the replay every 10 seconds\n",
    "    :param = PlayerStatsEventList\n",
    "    :param = player_id\n",
    "    \n",
    "    :return = single DataFrame() for Single Player in Game\n",
    "    - Frames\n",
    "    - Economy = [Current Minerals, Current Vespene, Minerals Collection Rate, Vespene Collection Rate, Active Workers]\n",
    "    - Minerals and Vespene Used In-Progress = [Minerals Army, Minerals Econ, Minerals Technology,\n",
    "                                               Vespene Army, Vespene Econ, Vespene Technology]\n",
    "    - Minerals and Vespene Current = [Minerals(Army, Econ, Tech), Vespene(Army, Econ, Tech)]\n",
    "    - Minerals and Vespene Lost = [Minerals(Army, Econ, Tech), Vespene(Army, Econ, Tech)]\n",
    "    - Minerals and Vespene Killed = [Minerals(Army, Econ, Tech), Vespene(Army, Econ, Tech)]\n",
    "    - Food Used\n",
    "    - Food Available\n",
    "    - Friendly-Fire Losses = [Minerals(Army, Econ, Tech), Vespene(Army, Econ, Tech)]\n",
    "    \"\"\" \n",
    "    ##############\n",
    "    frames      = [PlayerStatsEventList[i].frame for i in range(len(PlayerStatsEventList)) if PlayerStatsEventList[i].pid==player_id]\n",
    "    ##############\n",
    "    min_curr    = [PlayerStatsEventList[i].minerals_current for i in range(len(PlayerStatsEventList)) if PlayerStatsEventList[i].pid==player_id]\n",
    "    ves_curr    = [PlayerStatsEventList[i].vespene_current for i in range(len(PlayerStatsEventList)) if PlayerStatsEventList[i].pid==player_id]\n",
    "    min_colr    = [PlayerStatsEventList[i].minerals_collection_rate for i in range(len(PlayerStatsEventList)) if PlayerStatsEventList[i].pid==player_id]\n",
    "    ves_colr    = [PlayerStatsEventList[i].vespene_collection_rate for i in range(len(PlayerStatsEventList)) if PlayerStatsEventList[i].pid==player_id]\n",
    "    wk_actv     = [PlayerStatsEventList[i].workers_active_count for i in range(len(PlayerStatsEventList)) if PlayerStatsEventList[i].pid==player_id]\n",
    "    ##############\n",
    "    prgArmy_min = [PlayerStatsEventList[i].minerals_used_in_progress_army for i in range(len(PlayerStatsEventList)) if PlayerStatsEventList[i].pid==player_id]\n",
    "    prgEcon_min = [PlayerStatsEventList[i].minerals_used_in_progress_economy for i in range(len(PlayerStatsEventList)) if PlayerStatsEventList[i].pid==player_id]\n",
    "    prgTech_min = [PlayerStatsEventList[i].minerals_used_in_progress_technology for i in range(len(PlayerStatsEventList)) if PlayerStatsEventList[i].pid==player_id]\n",
    "    prgArmy_ves = [PlayerStatsEventList[i].vespene_used_in_progress_army for i in range(len(PlayerStatsEventList)) if PlayerStatsEventList[i].pid==player_id]\n",
    "    prgEcon_ves = [PlayerStatsEventList[i].vespene_used_in_progress_economy for i in range(len(PlayerStatsEventList)) if PlayerStatsEventList[i].pid==player_id]\n",
    "    prgTech_ves = [PlayerStatsEventList[i].vespene_used_in_progress_technology for i in range(len(PlayerStatsEventList)) if PlayerStatsEventList[i].pid==player_id]\n",
    "    ##############\n",
    "    curArmy_min = [PlayerStatsEventList[i].minerals_used_current_army for i in range(len(PlayerStatsEventList)) if PlayerStatsEventList[i].pid==player_id]\n",
    "    curEcon_min = [PlayerStatsEventList[i].minerals_used_current_economy for i in range(len(PlayerStatsEventList)) if PlayerStatsEventList[i].pid==player_id]\n",
    "    curTech_min = [PlayerStatsEventList[i].minerals_used_current_technology for i in range(len(PlayerStatsEventList)) if PlayerStatsEventList[i].pid==player_id]\n",
    "    curArmy_ves = [PlayerStatsEventList[i].vespene_used_current_army for i in range(len(PlayerStatsEventList)) if PlayerStatsEventList[i].pid==player_id]\n",
    "    curEcon_ves = [PlayerStatsEventList[i].vespene_used_current_economy for i in range(len(PlayerStatsEventList)) if PlayerStatsEventList[i].pid==player_id]\n",
    "    curTech_ves = [PlayerStatsEventList[i].vespene_used_current_technology for i in range(len(PlayerStatsEventList)) if PlayerStatsEventList[i].pid==player_id]\n",
    "    ##############\n",
    "    lossArmy_min = [PlayerStatsEventList[i].minerals_lost_army for i in range(len(PlayerStatsEventList)) if PlayerStatsEventList[i].pid==player_id]\n",
    "    lossEcon_min = [PlayerStatsEventList[i].minerals_lost_economy for i in range(len(PlayerStatsEventList)) if PlayerStatsEventList[i].pid==player_id]\n",
    "    lossTech_min = [PlayerStatsEventList[i].minerals_lost_technology for i in range(len(PlayerStatsEventList)) if PlayerStatsEventList[i].pid==player_id]\n",
    "    lossArmy_ves = [PlayerStatsEventList[i].vespene_lost_army for i in range(len(PlayerStatsEventList)) if PlayerStatsEventList[i].pid==player_id]\n",
    "    lossEcon_ves = [PlayerStatsEventList[i].vespene_lost_economy for i in range(len(PlayerStatsEventList)) if PlayerStatsEventList[i].pid==player_id]\n",
    "    lossTech_ves = [PlayerStatsEventList[i].vespene_lost_technology for i in range(len(PlayerStatsEventList)) if PlayerStatsEventList[i].pid==player_id]\n",
    "    ##############\n",
    "    killArmy_min = [PlayerStatsEventList[i].minerals_killed_army for i in range(len(PlayerStatsEventList)) if PlayerStatsEventList[i].pid==player_id]\n",
    "    killEcon_min = [PlayerStatsEventList[i].minerals_killed_economy for i in range(len(PlayerStatsEventList)) if PlayerStatsEventList[i].pid==player_id]\n",
    "    killTech_min = [PlayerStatsEventList[i].minerals_killed_technology for i in range(len(PlayerStatsEventList)) if PlayerStatsEventList[i].pid==player_id]\n",
    "    killArmy_ves = [PlayerStatsEventList[i].vespene_killed_army for i in range(len(PlayerStatsEventList)) if PlayerStatsEventList[i].pid==player_id]\n",
    "    killEcon_ves = [PlayerStatsEventList[i].vespene_killed_economy for i in range(len(PlayerStatsEventList)) if PlayerStatsEventList[i].pid==player_id]\n",
    "    killTech_ves = [PlayerStatsEventList[i].vespene_killed_technology for i in range(len(PlayerStatsEventList)) if PlayerStatsEventList[i].pid==player_id]\n",
    "    ##############\n",
    "    food_used  = [PlayerStatsEventList[i].food_used for i in range(len(PlayerStatsEventList)) if PlayerStatsEventList[i].pid==player_id]\n",
    "    food_avail = [PlayerStatsEventList[i].food_made for i in range(len(PlayerStatsEventList)) if PlayerStatsEventList[i].pid==player_id]\n",
    "    ##############\n",
    "    ff_lossArmy_min = [PlayerStatsEventList[i].ff_minerals_lost_army for i in range(len(PlayerStatsEventList)) if PlayerStatsEventList[i].pid==player_id]\n",
    "    ff_lossEcon_min = [PlayerStatsEventList[i].ff_minerals_lost_economy for i in range(len(PlayerStatsEventList)) if PlayerStatsEventList[i].pid==player_id]\n",
    "    ff_lossTech_min = [PlayerStatsEventList[i].ff_minerals_lost_technology for i in range(len(PlayerStatsEventList)) if PlayerStatsEventList[i].pid==player_id]\n",
    "    ff_lossArmy_ves = [PlayerStatsEventList[i].ff_vespene_lost_army for i in range(len(PlayerStatsEventList)) if PlayerStatsEventList[i].pid==player_id]\n",
    "    ff_lossEcon_ves = [PlayerStatsEventList[i].ff_vespene_lost_economy for i in range(len(PlayerStatsEventList)) if PlayerStatsEventList[i].pid==player_id]\n",
    "    ff_lossTech_ves = [PlayerStatsEventList[i].ff_vespene_lost_technology for i in range(len(PlayerStatsEventList)) if PlayerStatsEventList[i].pid==player_id]\n",
    "    \n",
    "    \n",
    "    \n",
    "    stats_df    = pd.DataFrame(list(zip(frames,wk_actv,min_curr,min_colr,ves_curr,ves_colr,\n",
    "                                        prgArmy_min,prgArmy_ves,prgEcon_min,prgEcon_ves,prgTech_min,prgTech_ves,\n",
    "                                        curArmy_min,curArmy_ves,curEcon_min,curEcon_ves,curTech_min,curTech_ves,\n",
    "                                        lossArmy_min,lossArmy_ves,lossEcon_min,lossEcon_ves,lossTech_min,lossTech_ves,\n",
    "                                        killArmy_min,killArmy_ves,killEcon_min,killEcon_ves,killTech_min,killTech_ves,\n",
    "                                        food_used,food_avail,\n",
    "                                        ff_lossArmy_min,ff_lossArmy_ves,ff_lossEcon_min,ff_lossEcon_ves,\n",
    "                                        ff_lossTech_min,ff_lossTech_ves)))\n",
    "    stats_df.columns = ['Frames', 'WorkersActive',\n",
    "                        'CurrentMinerals', 'MineralCollectionRate', 'CurrentVespene','VespeneCollectionRate',\n",
    "                        'MinUsedProgArmy', 'VesUsedProgArmy','MinUsedProgEcon',\n",
    "                        'VesUsedProgEcon', 'MinUsedProgTech', 'VesUsedProgTech',\n",
    "                        'CurrArmy_Min', 'CurrArmy_Ves', 'CurrEcon_Min', 'CurrEcon_Ves', 'CurrTech_Min', 'CurrTech_Ves',\n",
    "                        'LostArmy_Min', 'LostArmy_Ves', 'LostEcon_Min', 'LostEcon_Ves', 'LostTech_Min', 'LostTech_Ves',\n",
    "                        'KilledArmy_Min', 'KilledArmy_Ves', 'KilledEcon_Min', 'KilledEcon_Ves', 'KilledTech_Min', 'KilledTech_Ves',\n",
    "                        'FoodUsed', 'FoodAvailable',\n",
    "                        'FriendlyFire_lossArmy_Min', 'FriendlyFire_lossArmy_Ves',\n",
    "                        'FriendlyFire_lossEcon_Min', 'FriendlyFire_lossEcon_Ves',\n",
    "                        'FriendlyFire_lossTech_Min', 'FriendlyFire_lossTech_Ves']\n",
    "    return(stats_df)"
   ]
  },
  {
   "cell_type": "code",
   "execution_count": 60,
   "metadata": {},
   "outputs": [],
   "source": [
    "def plot_stats(p1_stats, p2_stats, replay):\n",
    "    plt.style.use('ggplot')\n",
    "    fig = plt.figure(figsize=(15,15))\n",
    "    gs = gridspec.GridSpec(nrows=4, ncols=2, figure=fig)\n",
    "    ax0 = fig.add_subplot(gs[0,0])\n",
    "    ax1 = fig.add_subplot(gs[0,1])\n",
    "    ax2 = fig.add_subplot(gs[1,0])\n",
    "    ax3 = fig.add_subplot(gs[1,1])\n",
    "    ax4 = fig.add_subplot(gs[2,:])\n",
    "    ax5 = fig.add_subplot(gs[3,:])\n",
    "#############################################\n",
    "    ax0.plot(p1_stats['Frames']//24, 'MineralCollectionRate', 'bo-', data=p1_stats, label=replay.player[1])\n",
    "    ax0.plot(p2_stats['Frames']//24, 'MineralCollectionRate', 'ro-', data=p2_stats, label=replay.player[2])\n",
    "    ax0.set_ylabel('MineralCollectionRate')\n",
    "    ax0.set_xlabel('Seconds')\n",
    "    ax0.legend(loc='best')\n",
    "#############################################\n",
    "    ax1.plot(p1_stats['Frames']//24, 'VespeneCollectionRate', 'bo-', data=p1_stats, label=replay.player[1])\n",
    "    ax1.plot(p2_stats['Frames']//24, 'VespeneCollectionRate', 'ro-', data=p2_stats, label=replay.player[2])\n",
    "    ax1.set_ylabel('VespeneCollectionRate')\n",
    "    ax1.set_xlabel('Seconds')\n",
    "    ax1.legend(loc='best')\n",
    "############################################\n",
    "    ax2.plot(p1_stats['Frames']//24, p1_stats['LostEcon_Min'] + p1_stats['LostEcon_Ves'], 'bo-', data=p1_stats, label=str(replay.player[1]) + ' Econ')\n",
    "    ax2.plot(p2_stats['Frames']//24, p2_stats['LostEcon_Min'] + p2_stats['LostEcon_Ves'], 'ro-', data=p2_stats, label=str(replay.player[2]) + ' Econ')\n",
    "    ax2.set_ylabel('Econ Losses')\n",
    "    ax2.set_xlabel('Seconds')\n",
    "    ax2.legend(loc='best')\n",
    "############################################\n",
    "    ax3.plot(p1_stats['Frames']//24, p1_stats['LostTech_Min'] + p1_stats['LostTech_Ves'], 'bs-', data=p1_stats, label=str(replay.player[1]) + ' Tech')\n",
    "    ax3.plot(p2_stats['Frames']//24, p2_stats['LostTech_Min'] + p2_stats['LostTech_Ves'], 'rs-', data=p2_stats, label=str(replay.player[2]) + ' Tech')\n",
    "    ax3.set_ylabel('Tech Losses')\n",
    "    ax3.set_xlabel('Frames')\n",
    "    ax3.legend(loc='best')\n",
    "############################################\n",
    "    ax4.plot(p1_stats['Frames']//24, p1_stats['CurrArmy_Min'] + p1_stats['CurrArmy_Ves'], 'bo-', data=p1_stats, label=str(replay.player[1]) + ' Army')\n",
    "    ax4.plot(p2_stats['Frames']//24, p2_stats['CurrArmy_Min'] + p2_stats['CurrArmy_Ves'], 'ro-', data=p2_stats, label=str(replay.player[2]) + ' Army')\n",
    "    ax4.set_ylabel('Current Army Value (Min + Ves)')\n",
    "    ax4.set_xlabel('Frames')\n",
    "    ax4.legend(loc='best')\n",
    "############################################\n",
    "    ax5.plot(p1_stats['Frames']//24, p1_stats['LostArmy_Min'] + p1_stats['LostArmy_Ves'], 'bo-', data=p1_stats, label=str(replay.player[1]) + ' Army')\n",
    "    ax5.plot(p2_stats['Frames']//24, p2_stats['LostArmy_Min'] + p2_stats['LostArmy_Ves'], 'ro-', data=p2_stats, label=str(replay.player[2]) + ' Army')\n",
    "    ax5.set_ylabel('ArmyLosses')\n",
    "    ax5.set_xlabel('Frames')\n",
    "    ax5.legend(loc='best')\n",
    "    plt.show()"
   ]
  },
  {
   "cell_type": "code",
   "execution_count": 61,
   "metadata": {},
   "outputs": [
    {
     "data": {
      "application/vnd.jupyter.widget-view+json": {
       "model_id": "219f6a9c384e4d70b0eeb100912ee0f0",
       "version_major": 2,
       "version_minor": 0
      },
      "text/plain": [
       "interactive(children=(Dropdown(description='replay', options=('C:\\\\Users\\\\stark\\\\Documents\\\\Coding\\\\SC2\\\\SC2_R…"
      ]
     },
     "metadata": {},
     "output_type": "display_data"
    },
    {
     "data": {
      "text/plain": [
       "<function __main__.load_replay(replay)>"
      ]
     },
     "execution_count": 61,
     "metadata": {},
     "output_type": "execute_result"
    }
   ],
   "source": [
    "layout = widgets.Layout(width='auto', height='40px')\n",
    "def load_replay(replay):\n",
    "    game = sc2reader.load_replay(replay, load_map=True)\n",
    "    p1, p2 = extract_PlayerInfo(game.player, 1), extract_PlayerInfo(game.player, 2)\n",
    "    winner = determineWinner(game)\n",
    "    events = split_events(game)\n",
    "    p1_stats = extract_StatEvents(events['PlayerStatsEvent'], 1)\n",
    "    p2_stats = extract_StatEvents(events['PlayerStatsEvent'], 2)\n",
    "    print(\"{} ({}) vs. {} ({})\".format(p1[0], p1[1], p2[0], p2[1]))\n",
    "    print(\"Map: {}\".format(game.map.name))\n",
    "    print(\"Winner: {} ({})\".format(winner[1][0], winner[1][1]))\n",
    "    print(\"Game Length: {}s\".format(winner[0]))\n",
    "    plot_stats(p1_stats, p2_stats, game)\n",
    "    return(game)\n",
    "interact_manual(load_replay, replay=replays, layout=layout)"
   ]
  },
  {
   "cell_type": "code",
   "execution_count": 57,
   "metadata": {},
   "outputs": [],
   "source": [
    "def AnalyzeGames(directory, numfiles):\n",
    "    counter=0\n",
    "    player1_info, player2_info, gameLength, Map, Winner = [], [], [], [], []\n",
    "    for root, dirs, files in os.walk(directory):\n",
    "        for name in files:\n",
    "            try:\n",
    "                replay = sc2reader.load_replay(os.path.join(root,name), load_map=True)\n",
    "                player1_info.append(extract_PlayerInfo(replay.player, 1))\n",
    "                player2_info.append(extract_PlayerInfo(replay.player, 2))\n",
    "                Map.append(replay.map.name)\n",
    "                tmp = determineWinner(replay)\n",
    "                gameLength.append(tmp[0])\n",
    "                Winner.append(tmp[1])\n",
    "                counter+=1\n",
    "                clear_output()\n",
    "                print(name)\n",
    "                print(\"{}/{}\".format(counter,numfiles))\n",
    "            except:\n",
    "                pass\n",
    "    GameInfo_df = pd.DataFrame(list(zip(player1_info,player2_info,Map,gameLength,Winner)))\n",
    "    GameInfo_df.columns = ['P1_Info', 'P2_Info', 'Map', 'GameLength', 'Winner']\n",
    "    return(GameInfo_df)"
   ]
  },
  {
   "cell_type": "code",
   "execution_count": null,
   "metadata": {},
   "outputs": [],
   "source": [
    "direct = 'C:\\\\Users\\\\stark\\\\Documents\\\\Coding\\\\SC2\\\\SC2_Replays\\\\'\n",
    "out = AnalyzeGames(direct,numfiles)\n",
    "out"
   ]
  }
 ],
 "metadata": {
  "kernelspec": {
   "display_name": "Python 3",
   "language": "python",
   "name": "python3"
  },
  "language_info": {
   "codemirror_mode": {
    "name": "ipython",
    "version": 3
   },
   "file_extension": ".py",
   "mimetype": "text/x-python",
   "name": "python",
   "nbconvert_exporter": "python",
   "pygments_lexer": "ipython3",
   "version": "3.7.7"
  }
 },
 "nbformat": 4,
 "nbformat_minor": 4
}
